{
 "cells": [
  {
   "cell_type": "markdown",
   "metadata": {},
   "source": [
    "## Test the usage"
   ]
  },
  {
   "cell_type": "code",
   "execution_count": 1,
   "metadata": {},
   "outputs": [],
   "source": [
    "from wrapper import *\n",
    "import ipdb\n",
    "import pickle\n",
    "import os\n",
    "from tqdm import tqdm\n",
    "import numpy as np\n",
    "\n",
    "os.environ['CUDA_VISIBLE_DEVICES'] = '3'"
   ]
  },
  {
   "cell_type": "code",
   "execution_count": 2,
   "metadata": {},
   "outputs": [
    {
     "name": "stdout",
     "output_type": "stream",
     "text": [
      "[!] Load the model from ./ckpt/pretrained/epoch_12.pt, threshold (0, 20)\n"
     ]
    }
   ],
   "source": [
    "# load the NNLM model\n",
    "tool = tools('pretrained', epoch=20)"
   ]
  },
  {
   "cell_type": "markdown",
   "metadata": {},
   "source": [
    "### SRF"
   ]
  },
  {
   "cell_type": "code",
   "execution_count": 3,
   "metadata": {},
   "outputs": [],
   "source": [
    "def load_data_corpus(path):\n",
    "    corpus = []\n",
    "    with open(path) as f:\n",
    "        for line in f.readlines():\n",
    "            corpus.append(''.join(line.strip().split()))\n",
    "    return corpus"
   ]
  },
  {
   "cell_type": "code",
   "execution_count": 4,
   "metadata": {},
   "outputs": [],
   "source": [
    "dataset = 'xiaohuangji'\n",
    "batch_size, filte = 128, 300\n",
    "src = load_data_corpus(f'../GPT2-Chinese/data/{dataset}/src-train.txt')\n",
    "tgt = load_data_corpus(f'../GPT2-Chinese/data/{dataset}/tgt-train.txt')\n",
    "\n",
    "# filte the target sentences\n",
    "tgtl = np.argsort([len(i) for i in tgt])\n",
    "tgtp = [tgt[i] for i in tgtl][:filte]\n",
    "\n",
    "tgtidx = [tgt.index(i) for i in tgtp]"
   ]
  },
  {
   "cell_type": "code",
   "execution_count": null,
   "metadata": {},
   "outputs": [
    {
     "name": "stdout",
     "output_type": "stream",
     "text": [
      "Data size: src(45000), tgt(300)\n"
     ]
    }
   ],
   "source": [
    "print(f'Data size: src({len(src)}), tgt({len(tgtp)})')"
   ]
  },
  {
   "cell_type": "code",
   "execution_count": null,
   "metadata": {},
   "outputs": [
    {
     "name": "stderr",
     "output_type": "stream",
     "text": [
      "11it [00:11,  1.02it/s]"
     ]
    }
   ],
   "source": [
    "r = np.zeros([len(src), len(tgtp)])\n",
    "for idx, s in tqdm(enumerate(src)):\n",
    "    idy = 0\n",
    "    while idy < len(tgtp):\n",
    "        tail = idy + batch_size\n",
    "        tt = tgtp[idy:tail]\n",
    "        batch_size = len(tt)\n",
    "        ss = [s for i in range(batch_size)]\n",
    "        r[idx, idy:tail] = tool.get_SRF(ss, tt)\n",
    "        idy = tail\n",
    "        \n",
    "with open(f'./data/{dataset}/matrix.pkl', 'wb') as f:\n",
    "    pickle.dump([tgtidx, r], f)\n",
    "    print(f'[!] end of pickle the object: {r.shape}')"
   ]
  },
  {
   "cell_type": "code",
   "execution_count": 8,
   "metadata": {},
   "outputs": [
    {
     "name": "stdout",
     "output_type": "stream",
     "text": [
      "[[0.47248876 1.94709467 0.74942765 2.5194506  0.39764487 0.57951906\n",
      "  0.7668182  3.17883583 2.13465986 3.44263773]\n",
      " [0.52768441 2.25581139 1.06862997 2.42722384 0.69509303 0.67380402\n",
      "  0.9950032  4.12490166 2.6424781  4.42226059]\n",
      " [0.39974221 1.52474906 0.74331209 1.88420056 0.3807821  0.53631289\n",
      "  0.81957621 2.36085011 1.45164923 2.98265964]\n",
      " [0.66064972 3.87541943 1.26338225 3.69883117 0.82828571 0.96867288\n",
      "  1.32011143 5.08266478 3.17496295 5.1427725 ]\n",
      " [1.05380553 3.90298561 1.64043447 4.43709175 0.97332509 0.88917991\n",
      "  1.38573616 7.25417456 3.96840404 7.3214302 ]\n",
      " [1.05822643 5.00268418 1.16619344 5.11389147 0.91559071 1.06078936\n",
      "  1.46530855 6.86534499 4.69142852 6.98671371]\n",
      " [0.86953262 4.28920069 1.09273181 4.84397897 0.89962789 0.76202829\n",
      "  1.25106534 6.64960444 3.95701851 6.70165972]\n",
      " [0.49579413 2.41718955 1.06602517 2.65581524 0.61773401 0.67624124\n",
      "  1.05259331 3.3878668  2.60798014 3.82112264]\n",
      " [0.38701818 2.17404513 1.09727439 2.29420905 0.41989987 0.59883053\n",
      "  0.8169007  2.8475384  2.15791091 3.31295851]\n",
      " [0.23608058 0.90769143 0.4527049  1.024348   0.2375357  0.33211453\n",
      "  0.31154057 1.57941022 0.98909102 2.01944311]]\n"
     ]
    }
   ],
   "source": [
    "with open(f'./data/{dataset}/matrix.pkl', 'rb') as f:\n",
    "    tidx, matrix = pickle.load(f)"
   ]
  },
  {
   "cell_type": "code",
   "execution_count": null,
   "metadata": {},
   "outputs": [],
   "source": []
  }
 ],
 "metadata": {
  "kernelspec": {
   "display_name": "Python 3",
   "language": "python",
   "name": "python3"
  },
  "language_info": {
   "codemirror_mode": {
    "name": "ipython",
    "version": 3
   },
   "file_extension": ".py",
   "mimetype": "text/x-python",
   "name": "python",
   "nbconvert_exporter": "python",
   "pygments_lexer": "ipython3",
   "version": "3.6.7"
  }
 },
 "nbformat": 4,
 "nbformat_minor": 2
}
