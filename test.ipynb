{
 "cells": [
  {
   "cell_type": "markdown",
   "metadata": {},
   "source": [
    "## Test the usage"
   ]
  },
  {
   "cell_type": "code",
   "execution_count": 62,
   "metadata": {},
   "outputs": [],
   "source": [
    "from wrapper import *\n",
    "import ipdb\n",
    "import os"
   ]
  },
  {
   "cell_type": "code",
   "execution_count": 63,
   "metadata": {},
   "outputs": [
    {
     "name": "stdout",
     "output_type": "stream",
     "text": [
      "[!] make sure the bert-as-service is running\n",
      "[!] Load the model from ./ckpt/pretrained/epoch_2.pt, threshold (0, 20)\n"
     ]
    }
   ],
   "source": [
    "# load the NNLM model\n",
    "tool = tools('pretrained', epoch=20)"
   ]
  },
  {
   "cell_type": "markdown",
   "metadata": {},
   "source": [
    "### 1. Show the vocab"
   ]
  },
  {
   "cell_type": "code",
   "execution_count": 67,
   "metadata": {},
   "outputs": [
    {
     "data": {
      "text/plain": [
       "['，',\n",
       " '的',\n",
       " '。',\n",
       " '、',\n",
       " '是',\n",
       " '了',\n",
       " '我',\n",
       " ',',\n",
       " '在',\n",
       " '有',\n",
       " '？',\n",
       " '-',\n",
       " '你',\n",
       " '和',\n",
       " '：',\n",
       " '.',\n",
       " '就',\n",
       " '也',\n",
       " '不',\n",
       " '?']"
      ]
     },
     "execution_count": 67,
     "metadata": {},
     "output_type": "execute_result"
    }
   ],
   "source": [
    "tool.idx2w[:20]"
   ]
  },
  {
   "cell_type": "code",
   "execution_count": 68,
   "metadata": {},
   "outputs": [
    {
     "data": {
      "text/plain": [
       "(349, 46245, 345, 45285, 7479)"
      ]
     },
     "execution_count": 68,
     "metadata": {},
     "output_type": "execute_result"
    }
   ],
   "source": [
    "tool.w2idx['今天'], tool.w2idx['上过'], tool.w2idx['不错'], tool.w2idx['奴才'], tool.w2idx['呵']"
   ]
  },
  {
   "cell_type": "markdown",
   "metadata": {},
   "source": [
    "### 2. Get the next work possibility\n",
    "string need to be tokenized"
   ]
  },
  {
   "cell_type": "code",
   "execution_count": 14,
   "metadata": {},
   "outputs": [
    {
     "data": {
      "text/plain": [
       "2.0001112716272473e-05"
      ]
     },
     "execution_count": 14,
     "metadata": {},
     "output_type": "execute_result"
    }
   ],
   "source": [
    "tool.get_next_word_possibility('你 认识', '')"
   ]
  },
  {
   "cell_type": "code",
   "execution_count": 26,
   "metadata": {},
   "outputs": [
    {
     "data": {
      "text/plain": [
       "2.0191439034533687e-05"
      ]
     },
     "execution_count": 26,
     "metadata": {},
     "output_type": "execute_result"
    }
   ],
   "source": [
    "tool.get_next_word_possibility('今天 天气 还', '可以')"
   ]
  },
  {
   "cell_type": "code",
   "execution_count": 51,
   "metadata": {},
   "outputs": [
    {
     "data": {
      "text/plain": [
       "2.014514393522404e-05"
      ]
     },
     "execution_count": 51,
     "metadata": {},
     "output_type": "execute_result"
    }
   ],
   "source": [
    "tool.get_next_word_possibility('今天 天气 还', '是')"
   ]
  },
  {
   "cell_type": "markdown",
   "metadata": {},
   "source": [
    "### 3. Get the possibility of the sentence"
   ]
  },
  {
   "cell_type": "code",
   "execution_count": 69,
   "metadata": {},
   "outputs": [
    {
     "name": "stdout",
     "output_type": "stream",
     "text": [
      "[!] make sure the bert-as-service is running\n"
     ]
    },
    {
     "data": {
      "text/plain": [
       "3.2071776742133673e-12"
      ]
     },
     "execution_count": 69,
     "metadata": {},
     "output_type": "execute_result"
    }
   ],
   "source": [
    "tool.get_p_t('今天 天气 不错', s='这个 问题 怎么 解决')"
   ]
  },
  {
   "cell_type": "code",
   "execution_count": 70,
   "metadata": {},
   "outputs": [
    {
     "name": "stdout",
     "output_type": "stream",
     "text": [
      "[!] make sure the bert-as-service is running\n"
     ]
    },
    {
     "data": {
      "text/plain": [
       "7.296733227598677e-09"
      ]
     },
     "execution_count": 70,
     "metadata": {},
     "output_type": "execute_result"
    }
   ],
   "source": [
    "tool.get_p_t('这个 问题 很 不错', s='这个 问题 怎么 解决')"
   ]
  },
  {
   "cell_type": "code",
   "execution_count": 71,
   "metadata": {},
   "outputs": [
    {
     "data": {
      "text/plain": [
       "1.8296972956744547e-10"
      ]
     },
     "execution_count": 71,
     "metadata": {},
     "output_type": "execute_result"
    }
   ],
   "source": [
    "tool.get_p_t('今天 天气 还 不错')"
   ]
  },
  {
   "cell_type": "code",
   "execution_count": 72,
   "metadata": {},
   "outputs": [
    {
     "name": "stdout",
     "output_type": "stream",
     "text": [
      "[!] make sure the bert-as-service is running\n"
     ]
    },
    {
     "data": {
      "text/plain": [
       "-4.764836874377751"
      ]
     },
     "execution_count": 72,
     "metadata": {},
     "output_type": "execute_result"
    }
   ],
   "source": [
    "tool.get_sentence_MI('我 今天 挺 漂亮 的', '这个 问题 怎么 解决')"
   ]
  },
  {
   "cell_type": "code",
   "execution_count": 73,
   "metadata": {},
   "outputs": [
    {
     "name": "stdout",
     "output_type": "stream",
     "text": [
      "[!] make sure the bert-as-service is running\n"
     ]
    },
    {
     "data": {
      "text/plain": [
       "-5.520221058605046"
      ]
     },
     "execution_count": 73,
     "metadata": {},
     "output_type": "execute_result"
    }
   ],
   "source": [
    "tool.get_sentence_MI('今天 天气 不错', '这个 问题 怎么 解决')"
   ]
  },
  {
   "cell_type": "markdown",
   "metadata": {},
   "source": [
    "### 4. Generaet the next word by the possibility"
   ]
  },
  {
   "cell_type": "code",
   "execution_count": 75,
   "metadata": {},
   "outputs": [
    {
     "data": {
      "text/plain": [
       "'我'"
      ]
     },
     "execution_count": 75,
     "metadata": {},
     "output_type": "execute_result"
    }
   ],
   "source": [
    "tool.generate_next_word('我 和')"
   ]
  },
  {
   "cell_type": "markdown",
   "metadata": {},
   "source": [
    "### 5. Generate the text"
   ]
  },
  {
   "cell_type": "code",
   "execution_count": 90,
   "metadata": {},
   "outputs": [
    {
     "name": "stdout",
     "output_type": "stream",
     "text": [
      "今天 我 的 R9 我 和 我 男朋友 在 一起 的 时候 我 和 他 在 一起 的 时候 我 和 他 在 一起 的 时候 我 和 他 在 一起 的 时候 我 和 他 在 一起 的 时候 我 和 他 在 一起 的 时候 我 和 他 在 一起 的 时候 我 和 他 在 一起 的 时候 我 很 开心 吗 ？ <eos> 的 <unk> 谢谢 了 ！ <eos> <eos> <eos> 。 <eos> <eos> <eos> <eos> <eos> <eos> <eos> ？ <eos> <eos> <eos> <eos> <eos> ？ <eos> <eos> <eos> <eos> <eos> <eos> <eos> <eos> ？ <eos> <eos>\n"
     ]
    }
   ],
   "source": [
    "lengths = 100\n",
    "words = ['今天']\n",
    "for i in range(lengths):\n",
    "    words.append(tool.generate_next_word(' '.join(words)))\n",
    "    \n",
    "print(' '.join(words))"
   ]
  },
  {
   "cell_type": "code",
   "execution_count": null,
   "metadata": {},
   "outputs": [],
   "source": []
  }
 ],
 "metadata": {
  "kernelspec": {
   "display_name": "Python 3",
   "language": "python",
   "name": "python3"
  },
  "language_info": {
   "codemirror_mode": {
    "name": "ipython",
    "version": 3
   },
   "file_extension": ".py",
   "mimetype": "text/x-python",
   "name": "python",
   "nbconvert_exporter": "python",
   "pygments_lexer": "ipython3",
   "version": "3.6.7"
  }
 },
 "nbformat": 4,
 "nbformat_minor": 2
}
